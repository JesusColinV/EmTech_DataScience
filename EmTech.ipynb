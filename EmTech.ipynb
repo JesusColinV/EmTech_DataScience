{
  "nbformat": 4,
  "nbformat_minor": 0,
  "metadata": {
    "colab": {
      "name": "EmTech.ipynb",
      "provenance": []
    },
    "kernelspec": {
      "name": "python3",
      "display_name": "Python 3"
    },
    "language_info": {
      "name": "python"
    }
  },
  "cells": [
    {
      "cell_type": "markdown",
      "source": [
        "Importamos las bases de datos a utilizar durante el proyecto"
      ],
      "metadata": {
        "id": "s2bJ06g72GZH"
      }
    },
    {
      "cell_type": "code",
      "execution_count": 2,
      "metadata": {
        "id": "FoKw59rD11xC"
      },
      "outputs": [],
      "source": [
        "from lifestore_file import lifestore_products, lifestore_sales, lifestore_searches\n",
        "import uuid\n",
        "import random\n",
        "import datetime"
      ]
    },
    {
      "cell_type": "markdown",
      "source": [
        "Login: Eb este apartado se crean cuentas con diferentes diveles de acceso"
      ],
      "metadata": {
        "id": "JLz3wVrC2aCm"
      }
    },
    {
      "cell_type": "code",
      "source": [
        "dbLogin={}\n",
        "numEmpleados = random.randint(0,10)\n",
        "typeUsers = {\n",
        "            'Admin':{'Edith':True},\n",
        "            'Reader':{'Edith':False}\n",
        "             }\n",
        "\n",
        "for i in range(numEmpleados):\n",
        "  dbLogin[i]={'id':uuid.uuid1(),'name':f'User{i}','license':random.choice(list(typeUsers.keys())),'creadedon':datetime.datetime.now(tz=None),'password':str(uuid.uuid1())[:8]}\n",
        "\n",
        "dbLogin # se muestra la tabla como Id, usuario, permisos y contraseña"
      ],
      "metadata": {
        "colab": {
          "base_uri": "https://localhost:8080/"
        },
        "id": "r1yHHUvS2ZV9",
        "outputId": "ff273329-204b-4c0c-99bb-179b623c5ba2"
      },
      "execution_count": 4,
      "outputs": [
        {
          "output_type": "execute_result",
          "data": {
            "text/plain": [
              "{0: {'creadedon': datetime.datetime(2022, 2, 7, 13, 25, 28, 110759),\n",
              "  'id': UUID('6a543464-8819-11ec-af68-0242ac1c0002'),\n",
              "  'license': 'Admin',\n",
              "  'name': 'User0',\n",
              "  'password': '6a543cc0'},\n",
              " 1: {'creadedon': datetime.datetime(2022, 2, 7, 13, 25, 28, 110870),\n",
              "  'id': UUID('6a543e6e-8819-11ec-af68-0242ac1c0002'),\n",
              "  'license': 'Admin',\n",
              "  'name': 'User1',\n",
              "  'password': '6a543f40'},\n",
              " 2: {'creadedon': datetime.datetime(2022, 2, 7, 13, 25, 28, 110903),\n",
              "  'id': UUID('6a543fd6-8819-11ec-af68-0242ac1c0002'),\n",
              "  'license': 'Admin',\n",
              "  'name': 'User2',\n",
              "  'password': '6a544080'},\n",
              " 3: {'creadedon': datetime.datetime(2022, 2, 7, 13, 25, 28, 110934),\n",
              "  'id': UUID('6a544102-8819-11ec-af68-0242ac1c0002'),\n",
              "  'license': 'Reader',\n",
              "  'name': 'User3',\n",
              "  'password': '6a5441ac'},\n",
              " 4: {'creadedon': datetime.datetime(2022, 2, 7, 13, 25, 28, 110961),\n",
              "  'id': UUID('6a54422e-8819-11ec-af68-0242ac1c0002'),\n",
              "  'license': 'Reader',\n",
              "  'name': 'User4',\n",
              "  'password': '6a5442ba'},\n",
              " 5: {'creadedon': datetime.datetime(2022, 2, 7, 13, 25, 28, 110992),\n",
              "  'id': UUID('6a544346-8819-11ec-af68-0242ac1c0002'),\n",
              "  'license': 'Reader',\n",
              "  'name': 'User5',\n",
              "  'password': '6a5443f0'},\n",
              " 6: {'creadedon': datetime.datetime(2022, 2, 7, 13, 25, 28, 111021),\n",
              "  'id': UUID('6a54447c-8819-11ec-af68-0242ac1c0002'),\n",
              "  'license': 'Admin',\n",
              "  'name': 'User6',\n",
              "  'password': '6a544512'}}"
            ]
          },
          "metadata": {},
          "execution_count": 4
        }
      ]
    },
    {
      "cell_type": "markdown",
      "source": [
        "Aquí se valida que el nombre y la contraseña sean corrector"
      ],
      "metadata": {
        "id": "oh-noX0Z-UwG"
      }
    },
    {
      "cell_type": "code",
      "source": [
        "valid=False\n",
        "\n",
        "def validador(user,password):\n",
        "  valid = [users['id'] for users in dbLogin.values() if user in users['name'] and password in users['password']]\n",
        "  if valid == []:\n",
        "    print('No se encontro registro')\n",
        "    return False\n",
        "  else:\n",
        "    print(f'Usuario identificado con el id: {valid[0]}')\n",
        "    return True\n",
        "\n",
        "\n",
        "while valid == False:\n",
        "  Usuario = input(\"Escriba su usuario: \")\n",
        "  Contraseña = input(\"Escriba su contraseña: \")\n",
        "  valid = validador(Usuario,Contraseña)"
      ],
      "metadata": {
        "id": "23PD2_QC-UQM",
        "colab": {
          "base_uri": "https://localhost:8080/"
        },
        "outputId": "177f683c-f1fa-4f3d-f243-2bbb8fcf02e3"
      },
      "execution_count": 52,
      "outputs": [
        {
          "output_type": "stream",
          "name": "stdout",
          "text": [
            "Escriba su usuario: error\n",
            "Escriba su contraseña: error\n",
            "No se encontro registro\n",
            "Escriba su usuario: User6\n",
            "Escriba su contraseña: 6a544512\n",
            "Usuario identificado con el id: 6a54447c-8819-11ec-af68-0242ac1c0002\n"
          ]
        }
      ]
    },
    {
      "cell_type": "markdown",
      "source": [
        "Creación de la tabla de analisis y producto más vendido"
      ],
      "metadata": {
        "id": "L3a5qSn9YhcU"
      }
    },
    {
      "cell_type": "code",
      "source": [
        "\n",
        "def ordenar(diccionario,orden):\n",
        "    arreglo=[[k,v] for k,v in diccionario.items()]\n",
        "    # Calculamos la longitud del arreglo para tener un código más limpio\n",
        "    longitud = len(arreglo)\n",
        "    # Recorremos todo el arreglo\n",
        "    for i in range(longitud):\n",
        "        # Dentro del ciclo, volvemos a recorrerlo. Pero ahora hasta el penúltimo elemento\n",
        "        for indice_actual in range(longitud - 1):\n",
        "            indice_siguiente_elemento = indice_actual + 1\n",
        "            # Si el actual es mayor que el siguiente, ...\n",
        "            # Nota: para un orden inverso, cambia `>` por `<`\n",
        "            if orden == 'min':\n",
        "              if arreglo[indice_actual][1] > arreglo[indice_siguiente_elemento][1]:\n",
        "                  # ... intercambiamos los elementos\n",
        "                  arreglo[indice_siguiente_elemento], arreglo[indice_actual] = arreglo[indice_actual], arreglo[indice_siguiente_elemento]\n",
        "            elif orden == 'max':\n",
        "              if arreglo[indice_actual][1] < arreglo[indice_siguiente_elemento][1]:\n",
        "                  # ... intercambiamos los elementos\n",
        "                  arreglo[indice_siguiente_elemento], arreglo[indice_actual] = arreglo[indice_actual], arreglo[indice_siguiente_elemento]\n",
        "    #print(arreglo)\n",
        "    return arreglo"
      ],
      "metadata": {
        "id": "MWfNLOe51aGw"
      },
      "execution_count": 6,
      "outputs": []
    },
    {
      "cell_type": "code",
      "source": [
        "def recuentos(miLista,tipo,numberofTop,logica,promedio):\n",
        "  '''\n",
        "  Inicializamos las variables para ventas pero la funcion es universal\n",
        "  miLista, se refiere a la lista por analizar\n",
        "  indice, se refiere a la posición en el listado o columna de la tabla\n",
        "  tipo, se refiere a la palabra a concatenar\n",
        "  numberofTop, se refiere al numero de busquedas que se considerarán\n",
        "  logica, se refiere a que si se hara el analisis ascendente o descendente \n",
        "  '''\n",
        "  table={}\n",
        "  indice=1\n",
        "  listTopSale=[]\n",
        "  print('Analisis para '+tipo+'...')\n",
        "  print('ordenado por '+logica+'imo')\n",
        "  \n",
        "  if promedio:\n",
        "    for sale in miLista: #inicialmente era para ventas pero aplica con cualquier listado\n",
        "      try:\n",
        "        table[sale[indice]]['total']+=1\n",
        "        table[sale[indice]]['score']+=sale[2]\n",
        "      except:\n",
        "        table[sale[indice]]={'total':1,'score':sale[2]}\n",
        "  else:\n",
        "    for sale in miLista: #inicialmente era para ventas pero aplica con cualquier listado\n",
        "      try:\n",
        "        table[sale[indice]]+=1\n",
        "      except:\n",
        "        table[sale[indice]]=1\n",
        "  if promedio:\n",
        "    table = {k:v['score']/v['total'] for k,v in table.items()}\n",
        "    print(table)\n",
        "  print(table)\n",
        "  tabla = ordenar(table,logica)\n",
        "\n",
        "  # convertimos en diccionario para manipular los datos mejor\n",
        "  mylifestore_products={i[0]:{'name':i[1], 'price':i[2], 'category':i[3], 'stock':i[4]} for i in lifestore_products}\n",
        "  k=1\n",
        "  print('\\n')\n",
        "  for i,product in enumerate(tabla[:numberofTop]):\n",
        "    print('El producto en la prosición: {} con {} {} es \\t {}'.format(i+1,product[1],tipo,mylifestore_products[product[0]]['name']))\n",
        "  print('\\n')\n",
        "\n",
        " "
      ],
      "metadata": {
        "id": "tIuDA60N6tfV"
      },
      "execution_count": 31,
      "outputs": []
    },
    {
      "cell_type": "code",
      "source": [
        "recuentos(lifestore_sales,'ventas',5,'max',False)\n",
        "recuentos(lifestore_searches,'busquedas',10,'max',False)\n",
        "recuentos(lifestore_sales,'ventas',5,'min',False)\n",
        "recuentos(lifestore_searches,'busquedas',10,'min',False)"
      ],
      "metadata": {
        "colab": {
          "base_uri": "https://localhost:8080/"
        },
        "id": "eHULz2PYYjhb",
        "outputId": "f9dadd35-60ad-4c8c-a5bb-266d5e897c5f"
      },
      "execution_count": 8,
      "outputs": [
        {
          "output_type": "stream",
          "name": "stdout",
          "text": [
            "Analisis para ventas...\n",
            "ordenado por maximo\n",
            "\n",
            "\n",
            "El producto en la prosición: 1 con 50 ventas es \t SSD Kingston A400, 120GB, SATA III, 2.5'', 7mm\n",
            "El producto en la prosición: 2 con 42 ventas es \t Procesador AMD Ryzen 5 2600, S-AM4, 3.40GHz, Six-Core, 16MB L3 Cache, con Disipador Wraith Stealth\n",
            "El producto en la prosición: 3 con 20 ventas es \t Procesador Intel Core i3-9100F, S-1151, 3.60GHz, Quad-Core, 6MB Cache (9na. Generación - Coffee Lake)\n",
            "El producto en la prosición: 4 con 18 ventas es \t Tarjeta Madre ASRock Micro ATX B450M Steel Legend, S-AM4, AMD B450, HDMI, 64GB DDR4 para AMD\n",
            "El producto en la prosición: 5 con 15 ventas es \t SSD Adata Ultimate SU800, 256GB, SATA III, 2.5'', 7mm\n",
            "\n",
            "\n",
            "Analisis para busquedas...\n",
            "ordenado por maximo\n",
            "\n",
            "\n",
            "El producto en la prosición: 1 con 263 busquedas es \t SSD Kingston A400, 120GB, SATA III, 2.5'', 7mm\n",
            "El producto en la prosición: 2 con 107 busquedas es \t SSD Adata Ultimate SU800, 256GB, SATA III, 2.5'', 7mm\n",
            "El producto en la prosición: 3 con 60 busquedas es \t Tarjeta Madre ASUS micro ATX TUF B450M-PLUS GAMING, S-AM4, AMD B450, HDMI, 64GB DDR4 para AMD\n",
            "El producto en la prosición: 4 con 55 busquedas es \t Procesador AMD Ryzen 5 2600, S-AM4, 3.40GHz, Six-Core, 16MB L3 Cache, con Disipador Wraith Stealth\n",
            "El producto en la prosición: 5 con 41 busquedas es \t Procesador AMD Ryzen 3 3200G con Gráficos Radeon Vega 8, S-AM4, 3.60GHz, Quad-Core, 4MB L3, con Disipador Wraith Spire\n",
            "El producto en la prosición: 6 con 35 busquedas es \t Logitech Audífonos Gamer G635 7.1, Alámbrico, 1.5 Metros, 3.5mm, Negro/Azul\n",
            "El producto en la prosición: 7 con 32 busquedas es \t TV Monitor LED 24TL520S-PU 24, HD, Widescreen, HDMI, Negro\n",
            "El producto en la prosición: 8 con 31 busquedas es \t Procesador Intel Core i7-9700K, S-1151, 3.60GHz, 8-Core, 12MB Smart Cache (9na. Generación Coffee Lake)\n",
            "El producto en la prosición: 9 con 30 busquedas es \t Procesador Intel Core i3-9100F, S-1151, 3.60GHz, Quad-Core, 6MB Cache (9na. Generación - Coffee Lake)\n",
            "El producto en la prosición: 10 con 30 busquedas es \t SSD XPG SX8200 Pro, 256GB, PCI Express, M.2\n",
            "\n",
            "\n",
            "Analisis para ventas...\n",
            "ordenado por minimo\n",
            "\n",
            "\n",
            "El producto en la prosición: 1 con 1 ventas es \t MSI GeForce 210, 1GB GDDR3, DVI, VGA, HDCP, PCI Express 2.0\n",
            "El producto en la prosición: 2 con 1 ventas es \t Tarjeta de Video Asus NVIDIA GeForce GTX 1050 Ti Phoenix, 4GB 128-bit GDDR5, PCI Express 3.0\n",
            "El producto en la prosición: 3 con 1 ventas es \t Tarjeta de Video Gigabyte AMD Radeon R7 370 OC, 2GB 256-bit GDDR5, PCI Express 3.0\n",
            "El producto en la prosición: 4 con 1 ventas es \t Tarjeta de Video MSI NVIDIA GeForce GTX 1050 Ti OC, 4GB 128-bit GDDR5, PCI Express x16 3.0\n",
            "El producto en la prosición: 5 con 1 ventas es \t Tarjeta de Video Zotac NVIDIA GeForce GTX 1660 Ti, 6GB 192-bit GDDR6, PCI Express x16 3.0\n",
            "\n",
            "\n",
            "Analisis para busquedas...\n",
            "ordenado por minimo\n",
            "\n",
            "\n",
            "El producto en la prosición: 1 con 1 busquedas es \t Procesador Intel Core i3-8100, S-1151, 3.60GHz, Quad-Core, 6MB Smart Cache (8va. Generación - Coffee Lake)\n",
            "El producto en la prosición: 2 con 1 busquedas es \t MSI GeForce 210, 1GB GDDR3, DVI, VGA, HDCP, PCI Express 2.0\n",
            "El producto en la prosición: 3 con 1 busquedas es \t Tarjeta de Video VisionTek AMD Radeon HD5450, 2GB GDDR3, PCI Express x16\n",
            "El producto en la prosición: 4 con 1 busquedas es \t Tarjeta Madre Gigabyte micro ATX Z390 M GAMING, S-1151, Intel Z390, HDMI, 64GB DDR4 para Intel \n",
            "El producto en la prosición: 5 con 1 busquedas es \t Tarjeta Madre ASRock ATX H110 Pro BTC+, S-1151, Intel H110, 32GB DDR4, para Intel\n",
            "El producto en la prosición: 6 con 1 busquedas es \t SSD Samsung 860 EVO, 1TB, SATA III, M.2\n",
            "El producto en la prosición: 7 con 1 busquedas es \t Samsung Smart TV LED 43, Full HD, Widescreen, Negro\n",
            "El producto en la prosición: 8 con 1 busquedas es \t Ghia Bocina Portátil BX800, Bluetooth, Inalámbrico, 2.1 Canales, 31W, USB, Negro\n",
            "El producto en la prosición: 9 con 1 busquedas es \t Ginga Audífonos con Micrófono GI18ADJ01BT-RO, Bluetooth, Alámbrico/Inalámbrico, 3.5mm, Rojo\n",
            "El producto en la prosición: 10 con 2 busquedas es \t Tarjeta de Video Asus NVIDIA GeForce GTX 1050 Ti Phoenix, 4GB 128-bit GDDR5, PCI Express 3.0\n",
            "\n",
            "\n"
          ]
        }
      ]
    },
    {
      "cell_type": "code",
      "source": [
        "# analisis como sumatoria total que aplicaria si todos tuvieran el mismo numero de aparisiones\n",
        "recuentos(lifestore_sales,'reseñas',5,'max',True)\n",
        "recuentos(lifestore_sales,'reseñas',5,'min',True)"
      ],
      "metadata": {
        "colab": {
          "base_uri": "https://localhost:8080/"
        },
        "id": "5eiOnwYWBeRO",
        "outputId": "e83c193b-e0cc-437e-f7fc-09bff5244f1c"
      },
      "execution_count": 10,
      "outputs": [
        {
          "output_type": "stream",
          "name": "stdout",
          "text": [
            "Analisis para reseñas...\n",
            "ordenado por maximo\n",
            "{1: 5.0, 2: 4.230769230769231, 3: 4.809523809523809, 4: 4.461538461538462, 5: 4.7, 6: 5.0, 7: 5.0, 8: 5.0, 10: 4.0, 11: 5.0, 12: 4.777777777777778, 13: 4.0, 17: 1.0, 18: 4.4, 21: 5.0, 22: 5.0, 25: 5.0, 28: 5.0, 29: 4.142857142857143, 31: 1.8333333333333333, 33: 4.5, 40: 5.0, 42: 4.555555555555555, 44: 4.666666666666667, 45: 1.0, 46: 2.0, 47: 4.545454545454546, 48: 4.666666666666667, 49: 5.0, 50: 5.0, 51: 4.666666666666667, 52: 5.0, 54: 4.72, 57: 4.866666666666666, 60: 5.0, 66: 5.0, 67: 5.0, 74: 4.5, 84: 5.0, 85: 5.0, 89: 3.0, 94: 4.0}\n",
            "\n",
            "\n",
            "El producto en la prosición: 1 con 5.0 reseñas es \t Procesador AMD Ryzen 3 3300X S-AM4, 3.80GHz, Quad-Core, 16MB L2 Cache\n",
            "El producto en la prosición: 2 con 5.0 reseñas es \t Procesador Intel Core i9-9900K, S-1151, 3.60GHz, 8-Core, 16MB Smart Cache (9na. Generación Coffee Lake)\n",
            "El producto en la prosición: 3 con 5.0 reseñas es \t Procesador Intel Core i7-9700K, S-1151, 3.60GHz, 8-Core, 12MB Smart Cache (9na. Generación Coffee Lake)\n",
            "El producto en la prosición: 4 con 5.0 reseñas es \t Procesador Intel Core i5-9600K, S-1151, 3.70GHz, Six-Core, 9MB Smart Cache (9na. Generiación - Coffee Lake)\n",
            "El producto en la prosición: 5 con 5.0 reseñas es \t Tarjeta de Video ASUS AMD Radeon RX 570, 4GB 256-bit GDDR5, PCI Express 3.0\n",
            "\n",
            "\n",
            "Analisis para reseñas...\n",
            "ordenado por minimo\n",
            "{1: 5.0, 2: 4.230769230769231, 3: 4.809523809523809, 4: 4.461538461538462, 5: 4.7, 6: 5.0, 7: 5.0, 8: 5.0, 10: 4.0, 11: 5.0, 12: 4.777777777777778, 13: 4.0, 17: 1.0, 18: 4.4, 21: 5.0, 22: 5.0, 25: 5.0, 28: 5.0, 29: 4.142857142857143, 31: 1.8333333333333333, 33: 4.5, 40: 5.0, 42: 4.555555555555555, 44: 4.666666666666667, 45: 1.0, 46: 2.0, 47: 4.545454545454546, 48: 4.666666666666667, 49: 5.0, 50: 5.0, 51: 4.666666666666667, 52: 5.0, 54: 4.72, 57: 4.866666666666666, 60: 5.0, 66: 5.0, 67: 5.0, 74: 4.5, 84: 5.0, 85: 5.0, 89: 3.0, 94: 4.0}\n",
            "\n",
            "\n",
            "El producto en la prosición: 1 con 1.0 reseñas es \t Tarjeta de Video Gigabyte AMD Radeon R7 370 OC, 2GB 256-bit GDDR5, PCI Express 3.0\n",
            "El producto en la prosición: 2 con 1.0 reseñas es \t Tarjeta Madre ASRock ATX H110 Pro BTC+, S-1151, Intel H110, 32GB DDR4, para Intel\n",
            "El producto en la prosición: 3 con 1.8333333333333333 reseñas es \t Tarjeta Madre AORUS micro ATX B450 AORUS M (rev. 1.0), S-AM4, AMD B450, HDMI, 64GB DDR4 para AMD\n",
            "El producto en la prosición: 4 con 2.0 reseñas es \t Tarjeta Madre Gigabyte micro ATX GA-H110M-DS2, S-1151, Intel H110, 32GB DDR4 para Intel\n",
            "El producto en la prosición: 5 con 3.0 reseñas es \t Cougar Audífonos Gamer Phontum Essential, Alámbrico, 1.9 Metros, 3.5mm, Negro.\n",
            "\n",
            "\n"
          ]
        }
      ]
    },
    {
      "cell_type": "markdown",
      "source": [
        "Analisis de fechas, creamos el diccionario y lo ordenamos "
      ],
      "metadata": {
        "id": "xj-JWpMjWend"
      }
    },
    {
      "cell_type": "code",
      "source": [
        "mylifestore_sales={}\n",
        "for i in lifestore_sales:\n",
        "  try:\n",
        "    mylifestore_sales[datetime.datetime.strptime(i[3],'%d/%m/%Y')]+=1\n",
        "  except:\n",
        "    mylifestore_sales[datetime.datetime.strptime(i[3],'%d/%m/%Y')]=1\n",
        "tabla=ordenar(mylifestore_sales,'max')"
      ],
      "metadata": {
        "id": "TO1liD5AW46n"
      },
      "execution_count": 40,
      "outputs": []
    },
    {
      "cell_type": "markdown",
      "source": [
        "Mostramos los 5 dias con más ventas"
      ],
      "metadata": {
        "id": "k2MRN5QicHQn"
      }
    },
    {
      "cell_type": "code",
      "source": [
        "for i,product in enumerate(tabla[:5]):\n",
        "  print('El producto en la posición: {} con {} compras es \\t {}'.format(i+1,product[1],product[0]))"
      ],
      "metadata": {
        "colab": {
          "base_uri": "https://localhost:8080/"
        },
        "id": "Yz1DEpN0axvX",
        "outputId": "34b58c44-9685-4fef-b6ac-812ee5569a09"
      },
      "execution_count": 41,
      "outputs": [
        {
          "output_type": "stream",
          "name": "stdout",
          "text": [
            "El producto en la posición: 1 con 12 compras es \t 2020-05-04 00:00:00\n",
            "El producto en la posición: 2 con 7 compras es \t 2020-04-14 00:00:00\n",
            "El producto en la posición: 3 con 6 compras es \t 2020-04-24 00:00:00\n",
            "El producto en la posición: 4 con 6 compras es \t 2020-04-13 00:00:00\n",
            "El producto en la posición: 5 con 6 compras es \t 2020-04-06 00:00:00\n"
          ]
        }
      ]
    },
    {
      "cell_type": "code",
      "source": [
        "import plotly.express as px\n",
        "import pandas as pd"
      ],
      "metadata": {
        "id": "_Wi_TmRbemvl"
      },
      "execution_count": 45,
      "outputs": []
    },
    {
      "cell_type": "markdown",
      "source": [
        "Visualización de las ventas a lo largo del tiempo"
      ],
      "metadata": {
        "id": "kTypBVOQfycd"
      }
    },
    {
      "cell_type": "code",
      "source": [
        "tabla2=pd.DataFrame(tabla)\n",
        "fig=px.area(tabla2,x=0,y=1,line_shape=\"spline\")\n",
        "fig.show()"
      ],
      "metadata": {
        "colab": {
          "base_uri": "https://localhost:8080/",
          "height": 345
        },
        "id": "UZyQQidue9uI",
        "outputId": "813211c2-40f4-4033-9fc2-ef918ab11135"
      },
      "execution_count": 59,
      "outputs": [
        {
          "output_type": "error",
          "ename": "ValueError",
          "evalue": "ignored",
          "traceback": [
            "\u001b[0;31m---------------------------------------------------------------------------\u001b[0m",
            "\u001b[0;31mValueError\u001b[0m                                Traceback (most recent call last)",
            "\u001b[0;32m<ipython-input-59-ae1df72457da>\u001b[0m in \u001b[0;36m<module>\u001b[0;34m()\u001b[0m\n\u001b[0;32m----> 1\u001b[0;31m \u001b[0mtabla2\u001b[0m\u001b[0;34m=\u001b[0m\u001b[0mpd\u001b[0m\u001b[0;34m.\u001b[0m\u001b[0mDataFrame\u001b[0m\u001b[0;34m(\u001b[0m\u001b[0mmylifestore_sales\u001b[0m\u001b[0;34m)\u001b[0m\u001b[0;34m\u001b[0m\u001b[0;34m\u001b[0m\u001b[0m\n\u001b[0m\u001b[1;32m      2\u001b[0m \u001b[0mfig\u001b[0m\u001b[0;34m=\u001b[0m\u001b[0mpx\u001b[0m\u001b[0;34m.\u001b[0m\u001b[0marea\u001b[0m\u001b[0;34m(\u001b[0m\u001b[0mtabla2\u001b[0m\u001b[0;34m,\u001b[0m\u001b[0mx\u001b[0m\u001b[0;34m=\u001b[0m\u001b[0;36m0\u001b[0m\u001b[0;34m,\u001b[0m\u001b[0my\u001b[0m\u001b[0;34m=\u001b[0m\u001b[0;36m1\u001b[0m\u001b[0;34m,\u001b[0m\u001b[0mline_shape\u001b[0m\u001b[0;34m=\u001b[0m\u001b[0;34m\"spline\"\u001b[0m\u001b[0;34m)\u001b[0m\u001b[0;34m\u001b[0m\u001b[0;34m\u001b[0m\u001b[0m\n\u001b[1;32m      3\u001b[0m \u001b[0mfig\u001b[0m\u001b[0;34m.\u001b[0m\u001b[0mshow\u001b[0m\u001b[0;34m(\u001b[0m\u001b[0;34m)\u001b[0m\u001b[0;34m\u001b[0m\u001b[0;34m\u001b[0m\u001b[0m\n",
            "\u001b[0;32m/usr/local/lib/python3.7/dist-packages/pandas/core/frame.py\u001b[0m in \u001b[0;36m__init__\u001b[0;34m(self, data, index, columns, dtype, copy)\u001b[0m\n\u001b[1;32m    612\u001b[0m         \u001b[0;32melif\u001b[0m \u001b[0misinstance\u001b[0m\u001b[0;34m(\u001b[0m\u001b[0mdata\u001b[0m\u001b[0;34m,\u001b[0m \u001b[0mdict\u001b[0m\u001b[0;34m)\u001b[0m\u001b[0;34m:\u001b[0m\u001b[0;34m\u001b[0m\u001b[0;34m\u001b[0m\u001b[0m\n\u001b[1;32m    613\u001b[0m             \u001b[0;31m# GH#38939 de facto copy defaults to False only in non-dict cases\u001b[0m\u001b[0;34m\u001b[0m\u001b[0;34m\u001b[0m\u001b[0;34m\u001b[0m\u001b[0m\n\u001b[0;32m--> 614\u001b[0;31m             \u001b[0mmgr\u001b[0m \u001b[0;34m=\u001b[0m \u001b[0mdict_to_mgr\u001b[0m\u001b[0;34m(\u001b[0m\u001b[0mdata\u001b[0m\u001b[0;34m,\u001b[0m \u001b[0mindex\u001b[0m\u001b[0;34m,\u001b[0m \u001b[0mcolumns\u001b[0m\u001b[0;34m,\u001b[0m \u001b[0mdtype\u001b[0m\u001b[0;34m=\u001b[0m\u001b[0mdtype\u001b[0m\u001b[0;34m,\u001b[0m \u001b[0mcopy\u001b[0m\u001b[0;34m=\u001b[0m\u001b[0mcopy\u001b[0m\u001b[0;34m,\u001b[0m \u001b[0mtyp\u001b[0m\u001b[0;34m=\u001b[0m\u001b[0mmanager\u001b[0m\u001b[0;34m)\u001b[0m\u001b[0;34m\u001b[0m\u001b[0;34m\u001b[0m\u001b[0m\n\u001b[0m\u001b[1;32m    615\u001b[0m         \u001b[0;32melif\u001b[0m \u001b[0misinstance\u001b[0m\u001b[0;34m(\u001b[0m\u001b[0mdata\u001b[0m\u001b[0;34m,\u001b[0m \u001b[0mma\u001b[0m\u001b[0;34m.\u001b[0m\u001b[0mMaskedArray\u001b[0m\u001b[0;34m)\u001b[0m\u001b[0;34m:\u001b[0m\u001b[0;34m\u001b[0m\u001b[0;34m\u001b[0m\u001b[0m\n\u001b[1;32m    616\u001b[0m             \u001b[0;32mimport\u001b[0m \u001b[0mnumpy\u001b[0m\u001b[0;34m.\u001b[0m\u001b[0mma\u001b[0m\u001b[0;34m.\u001b[0m\u001b[0mmrecords\u001b[0m \u001b[0;32mas\u001b[0m \u001b[0mmrecords\u001b[0m\u001b[0;34m\u001b[0m\u001b[0;34m\u001b[0m\u001b[0m\n",
            "\u001b[0;32m/usr/local/lib/python3.7/dist-packages/pandas/core/internals/construction.py\u001b[0m in \u001b[0;36mdict_to_mgr\u001b[0;34m(data, index, columns, dtype, typ, copy)\u001b[0m\n\u001b[1;32m    463\u001b[0m \u001b[0;34m\u001b[0m\u001b[0m\n\u001b[1;32m    464\u001b[0m     return arrays_to_mgr(\n\u001b[0;32m--> 465\u001b[0;31m         \u001b[0marrays\u001b[0m\u001b[0;34m,\u001b[0m \u001b[0mdata_names\u001b[0m\u001b[0;34m,\u001b[0m \u001b[0mindex\u001b[0m\u001b[0;34m,\u001b[0m \u001b[0mcolumns\u001b[0m\u001b[0;34m,\u001b[0m \u001b[0mdtype\u001b[0m\u001b[0;34m=\u001b[0m\u001b[0mdtype\u001b[0m\u001b[0;34m,\u001b[0m \u001b[0mtyp\u001b[0m\u001b[0;34m=\u001b[0m\u001b[0mtyp\u001b[0m\u001b[0;34m,\u001b[0m \u001b[0mconsolidate\u001b[0m\u001b[0;34m=\u001b[0m\u001b[0mcopy\u001b[0m\u001b[0;34m\u001b[0m\u001b[0;34m\u001b[0m\u001b[0m\n\u001b[0m\u001b[1;32m    466\u001b[0m     )\n\u001b[1;32m    467\u001b[0m \u001b[0;34m\u001b[0m\u001b[0m\n",
            "\u001b[0;32m/usr/local/lib/python3.7/dist-packages/pandas/core/internals/construction.py\u001b[0m in \u001b[0;36marrays_to_mgr\u001b[0;34m(arrays, arr_names, index, columns, dtype, verify_integrity, typ, consolidate)\u001b[0m\n\u001b[1;32m    117\u001b[0m         \u001b[0;31m# figure out the index, if necessary\u001b[0m\u001b[0;34m\u001b[0m\u001b[0;34m\u001b[0m\u001b[0;34m\u001b[0m\u001b[0m\n\u001b[1;32m    118\u001b[0m         \u001b[0;32mif\u001b[0m \u001b[0mindex\u001b[0m \u001b[0;32mis\u001b[0m \u001b[0;32mNone\u001b[0m\u001b[0;34m:\u001b[0m\u001b[0;34m\u001b[0m\u001b[0;34m\u001b[0m\u001b[0m\n\u001b[0;32m--> 119\u001b[0;31m             \u001b[0mindex\u001b[0m \u001b[0;34m=\u001b[0m \u001b[0m_extract_index\u001b[0m\u001b[0;34m(\u001b[0m\u001b[0marrays\u001b[0m\u001b[0;34m)\u001b[0m\u001b[0;34m\u001b[0m\u001b[0;34m\u001b[0m\u001b[0m\n\u001b[0m\u001b[1;32m    120\u001b[0m         \u001b[0;32melse\u001b[0m\u001b[0;34m:\u001b[0m\u001b[0;34m\u001b[0m\u001b[0;34m\u001b[0m\u001b[0m\n\u001b[1;32m    121\u001b[0m             \u001b[0mindex\u001b[0m \u001b[0;34m=\u001b[0m \u001b[0mensure_index\u001b[0m\u001b[0;34m(\u001b[0m\u001b[0mindex\u001b[0m\u001b[0;34m)\u001b[0m\u001b[0;34m\u001b[0m\u001b[0;34m\u001b[0m\u001b[0m\n",
            "\u001b[0;32m/usr/local/lib/python3.7/dist-packages/pandas/core/internals/construction.py\u001b[0m in \u001b[0;36m_extract_index\u001b[0;34m(data)\u001b[0m\n\u001b[1;32m    623\u001b[0m \u001b[0;34m\u001b[0m\u001b[0m\n\u001b[1;32m    624\u001b[0m         \u001b[0;32mif\u001b[0m \u001b[0;32mnot\u001b[0m \u001b[0mindexes\u001b[0m \u001b[0;32mand\u001b[0m \u001b[0;32mnot\u001b[0m \u001b[0mraw_lengths\u001b[0m\u001b[0;34m:\u001b[0m\u001b[0;34m\u001b[0m\u001b[0;34m\u001b[0m\u001b[0m\n\u001b[0;32m--> 625\u001b[0;31m             \u001b[0;32mraise\u001b[0m \u001b[0mValueError\u001b[0m\u001b[0;34m(\u001b[0m\u001b[0;34m\"If using all scalar values, you must pass an index\"\u001b[0m\u001b[0;34m)\u001b[0m\u001b[0;34m\u001b[0m\u001b[0;34m\u001b[0m\u001b[0m\n\u001b[0m\u001b[1;32m    626\u001b[0m \u001b[0;34m\u001b[0m\u001b[0m\n\u001b[1;32m    627\u001b[0m         \u001b[0;32mif\u001b[0m \u001b[0mhave_series\u001b[0m\u001b[0;34m:\u001b[0m\u001b[0;34m\u001b[0m\u001b[0;34m\u001b[0m\u001b[0m\n",
            "\u001b[0;31mValueError\u001b[0m: If using all scalar values, you must pass an index"
          ]
        }
      ]
    },
    {
      "cell_type": "markdown",
      "source": [
        "Calculo de ventas totales y promedio mensual, anual y el total de la tabla. "
      ],
      "metadata": {
        "id": "PQDwFQ4ngSvE"
      }
    },
    {
      "cell_type": "code",
      "source": [
        "eachWeek={}\n",
        "eachWeekday={}\n",
        "eachMonth={}\n",
        "eachYear={}\n",
        "\n",
        "for k,v in mylifestore_sales.items():\n",
        "  try:\n",
        "    eachWeek[k.strftime(\"%V\")]+=1\n",
        "    eachWeekday[k.weekday()]+=1\n",
        "    eachMonth[k.month]+=1\n",
        "    eachYear[k.year]+=1\n",
        "  except:\n",
        "    eachWeek[k.strftime(\"%V\")]=1\n",
        "    eachWeekday[k.weekday()]=1\n",
        "    eachMonth[k.month]=1\n",
        "    eachYear[k.year]=1"
      ],
      "metadata": {
        "id": "0QZg_TxrgH3t"
      },
      "execution_count": 90,
      "outputs": []
    },
    {
      "cell_type": "markdown",
      "source": [
        "En el siguiente diccionario podemos ver que la semana 5,14 y 7 son en las cuales se ha vendido mayor cantidad.\n",
        "\n",
        "*Nota: Los diccionarios no tienen orden por lo que se imprimen en desorden, no vi restricción en ello pero decidi mostrarlo al final para mayor claridad*"
      ],
      "metadata": {
        "id": "xgdTXzkUnShW"
      }
    },
    {
      "cell_type": "code",
      "source": [
        "for k in eachWeek.keys():\n",
        "  print(f'La semana {k} hubo un total de {eachWeek[k]} ventas con un promedio productos/día de \\t de {eachWeek[k]/7}')\n",
        "\n",
        "eachWeek"
      ],
      "metadata": {
        "colab": {
          "base_uri": "https://localhost:8080/"
        },
        "id": "ipQUkJ1Qh1ql",
        "outputId": "e74927d0-e179-46cc-86e4-21132209c2c7"
      },
      "execution_count": 106,
      "outputs": [
        {
          "output_type": "stream",
          "name": "stdout",
          "text": [
            "La semana 30 hubo un total de 3 ventas con un promedio productos/día de \t de 0.42857142857142855\n",
            "La semana 31 hubo un total de 1 ventas con un promedio productos/día de \t de 0.14285714285714285\n",
            "La semana 09 hubo un total de 5 ventas con un promedio productos/día de \t de 0.7142857142857143\n",
            "La semana 21 hubo un total de 4 ventas con un promedio productos/día de \t de 0.5714285714285714\n",
            "La semana 01 hubo un total de 5 ventas con un promedio productos/día de \t de 0.7142857142857143\n",
            "La semana 17 hubo un total de 6 ventas con un promedio productos/día de \t de 0.8571428571428571\n",
            "La semana 05 hubo un total de 7 ventas con un promedio productos/día de \t de 1.0\n",
            "La semana 06 hubo un total de 5 ventas con un promedio productos/día de \t de 0.7142857142857143\n",
            "La semana 10 hubo un total de 6 ventas con un promedio productos/día de \t de 0.8571428571428571\n",
            "La semana 13 hubo un total de 5 ventas con un promedio productos/día de \t de 0.7142857142857143\n",
            "La semana 18 hubo un total de 6 ventas con un promedio productos/día de \t de 0.8571428571428571\n",
            "La semana 23 hubo un total de 2 ventas con un promedio productos/día de \t de 0.2857142857142857\n",
            "La semana 45 hubo un total de 1 ventas con un promedio productos/día de \t de 0.14285714285714285\n",
            "La semana 24 hubo un total de 2 ventas con un promedio productos/día de \t de 0.2857142857142857\n",
            "La semana 20 hubo un total de 3 ventas con un promedio productos/día de \t de 0.42857142857142855\n",
            "La semana 16 hubo un total de 7 ventas con un promedio productos/día de \t de 1.0\n",
            "La semana 15 hubo un total de 6 ventas con un promedio productos/día de \t de 0.8571428571428571\n",
            "La semana 14 hubo un total de 7 ventas con un promedio productos/día de \t de 1.0\n",
            "La semana 12 hubo un total de 6 ventas con un promedio productos/día de \t de 0.8571428571428571\n",
            "La semana 11 hubo un total de 5 ventas con un promedio productos/día de \t de 0.7142857142857143\n",
            "La semana 04 hubo un total de 5 ventas con un promedio productos/día de \t de 0.7142857142857143\n",
            "La semana 03 hubo un total de 5 ventas con un promedio productos/día de \t de 0.7142857142857143\n",
            "La semana 02 hubo un total de 6 ventas con un promedio productos/día de \t de 0.8571428571428571\n",
            "La semana 25 hubo un total de 2 ventas con un promedio productos/día de \t de 0.2857142857142857\n",
            "La semana 27 hubo un total de 6 ventas con un promedio productos/día de \t de 0.8571428571428571\n",
            "La semana 19 hubo un total de 4 ventas con un promedio productos/día de \t de 0.5714285714285714\n",
            "La semana 07 hubo un total de 6 ventas con un promedio productos/día de \t de 0.8571428571428571\n",
            "La semana 08 hubo un total de 5 ventas con un promedio productos/día de \t de 0.7142857142857143\n",
            "La semana 36 hubo un total de 1 ventas con un promedio productos/día de \t de 0.14285714285714285\n",
            "La semana 32 hubo un total de 1 ventas con un promedio productos/día de \t de 0.14285714285714285\n"
          ]
        },
        {
          "output_type": "execute_result",
          "data": {
            "text/plain": [
              "{'01': 5,\n",
              " '02': 6,\n",
              " '03': 5,\n",
              " '04': 5,\n",
              " '05': 7,\n",
              " '06': 5,\n",
              " '07': 6,\n",
              " '08': 5,\n",
              " '09': 5,\n",
              " '10': 6,\n",
              " '11': 5,\n",
              " '12': 6,\n",
              " '13': 5,\n",
              " '14': 7,\n",
              " '15': 6,\n",
              " '16': 7,\n",
              " '17': 6,\n",
              " '18': 6,\n",
              " '19': 4,\n",
              " '20': 3,\n",
              " '21': 4,\n",
              " '23': 2,\n",
              " '24': 2,\n",
              " '25': 2,\n",
              " '27': 6,\n",
              " '30': 3,\n",
              " '31': 1,\n",
              " '32': 1,\n",
              " '36': 1,\n",
              " '45': 1}"
            ]
          },
          "metadata": {},
          "execution_count": 106
        }
      ]
    },
    {
      "cell_type": "markdown",
      "source": [
        "Podemos ver que los dias jueves son los dias de mayor ventas"
      ],
      "metadata": {
        "id": "EZX-ocCGnq7E"
      }
    },
    {
      "cell_type": "code",
      "source": [
        "eachWeekday #0: lunes 1: Martes 2: Miercoles 3: Jueves 4: Viernes 5: Sabado 6: Domingo"
      ],
      "metadata": {
        "colab": {
          "base_uri": "https://localhost:8080/"
        },
        "id": "2CJKu965iao9",
        "outputId": "cba84cc5-9fc4-466e-83d5-1c25337ca62e"
      },
      "execution_count": 96,
      "outputs": [
        {
          "output_type": "execute_result",
          "data": {
            "text/plain": [
              "{0: 3, 1: 11, 2: 14, 3: 16, 4: 12, 5: 11, 6: 2}"
            ]
          },
          "metadata": {},
          "execution_count": 96
        }
      ]
    },
    {
      "cell_type": "markdown",
      "source": [
        "Ademas de que se vende más en el mes de marzo"
      ],
      "metadata": {
        "id": "IeZ2j-isnyJE"
      }
    },
    {
      "cell_type": "code",
      "source": [
        "for k in eachMonth.keys():\n",
        "  print(f'En el mes {k} hubo un total de {eachMonth[k]} ventas con un promedio productos/día de \\t de {eachMonth[k]/30}')"
      ],
      "metadata": {
        "colab": {
          "base_uri": "https://localhost:8080/"
        },
        "id": "Adt-bR3AkCYW",
        "outputId": "44f665d8-f5df-434b-fc99-2ce1aecc84c4"
      },
      "execution_count": 109,
      "outputs": [
        {
          "output_type": "stream",
          "name": "stdout",
          "text": [
            "En el mes 7 hubo un total de 6 ventas con un promedio productos/día de \t de 0.2\n",
            "En el mes 2 hubo un total de 15 ventas con un promedio productos/día de \t de 0.5\n",
            "En el mes 5 hubo un total de 9 ventas con un promedio productos/día de \t de 0.3\n",
            "En el mes 1 hubo un total de 19 ventas con un promedio productos/día de \t de 0.6333333333333333\n",
            "En el mes 4 hubo un total de 18 ventas con un promedio productos/día de \t de 0.6\n",
            "En el mes 3 hubo un total de 22 ventas con un promedio productos/día de \t de 0.7333333333333333\n",
            "En el mes 6 hubo un total de 5 ventas con un promedio productos/día de \t de 0.16666666666666666\n",
            "En el mes 11 hubo un total de 1 ventas con un promedio productos/día de \t de 0.03333333333333333\n",
            "En el mes 9 hubo un total de 1 ventas con un promedio productos/día de \t de 0.03333333333333333\n",
            "En el mes 8 hubo un total de 1 ventas con un promedio productos/día de \t de 0.03333333333333333\n"
          ]
        }
      ]
    },
    {
      "cell_type": "markdown",
      "source": [
        "Y el año de más ventas fue el 2020"
      ],
      "metadata": {
        "id": "EUg9BLRfpXQF"
      }
    },
    {
      "cell_type": "code",
      "source": [
        "\n",
        "for k in eachYear.keys():\n",
        "  print(f'En el año {k} hubo un total de {eachYear[k]} ventas con un promedio productos/día de \\t de {eachYear[k]/365}')"
      ],
      "metadata": {
        "colab": {
          "base_uri": "https://localhost:8080/"
        },
        "id": "UQHGO-MKmyWM",
        "outputId": "450bd502-10f6-4dfa-b2a2-1f6d0a7dcac0"
      },
      "execution_count": 108,
      "outputs": [
        {
          "output_type": "stream",
          "name": "stdout",
          "text": [
            "En el año 2020 hubo un total de 20 ventas con un promedio productos/día de \t de 0.0547945205479452\n",
            "En el año 2019 hubo un total de 1 ventas con un promedio productos/día de \t de 0.0027397260273972603\n"
          ]
        }
      ]
    }
  ]
}